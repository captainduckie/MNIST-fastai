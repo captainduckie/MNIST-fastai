{
  "cells": [
    {
      "cell_type": "code",
      "execution_count": 1,
      "metadata": {
        "colab": {
          "base_uri": "https://localhost:8080/"
        },
        "id": "vURCMy_3-7i8",
        "outputId": "6752c31d-efa2-44bb-ceb4-898f904550f0"
      },
      "outputs": [
        {
          "output_type": "stream",
          "name": "stdout",
          "text": [
            "\u001b[K     |████████████████████████████████| 720 kB 6.5 MB/s \n",
            "\u001b[K     |████████████████████████████████| 1.2 MB 31.6 MB/s \n",
            "\u001b[K     |████████████████████████████████| 189 kB 43.3 MB/s \n",
            "\u001b[K     |████████████████████████████████| 48 kB 1.8 MB/s \n",
            "\u001b[K     |████████████████████████████████| 55 kB 1.0 MB/s \n",
            "\u001b[K     |████████████████████████████████| 558 kB 37.7 MB/s \n",
            "\u001b[K     |████████████████████████████████| 51 kB 289 kB/s \n",
            "\u001b[K     |████████████████████████████████| 130 kB 47.8 MB/s \n",
            "\u001b[?25hMounted at /content/gdrive\n"
          ]
        }
      ],
      "source": [
        "#hide\n",
        "!pip install -Uqq fastbook\n",
        "import fastbook\n",
        "fastbook.setup_book()"
      ]
    },
    {
      "cell_type": "code",
      "execution_count": 2,
      "metadata": {
        "id": "jUFv9VQf-7jA"
      },
      "outputs": [],
      "source": [
        "#hide\n",
        "from fastai.vision.all import *\n",
        "from fastbook import *\n",
        "\n",
        "matplotlib.rc('image', cmap='Greys')"
      ]
    },
    {
      "cell_type": "markdown",
      "metadata": {
        "id": "A6vknYH4-7jB"
      },
      "source": [
        "# Under the Hood: Training a Digit Classifier"
      ]
    },
    {
      "cell_type": "markdown",
      "metadata": {
        "id": "xfsLiVWI-7jD"
      },
      "source": [
        "## Pixels: The Foundations of Computer Vision"
      ]
    },
    {
      "cell_type": "markdown",
      "metadata": {
        "id": "sirsYlnG-7jE"
      },
      "source": [
        "## Sidebar: Tenacity and Deep Learning"
      ]
    },
    {
      "cell_type": "markdown",
      "metadata": {
        "id": "3AIpRCEL-7jE"
      },
      "source": [
        "## End sidebar"
      ]
    },
    {
      "cell_type": "code",
      "execution_count": 3,
      "metadata": {
        "colab": {
          "base_uri": "https://localhost:8080/",
          "height": 37
        },
        "id": "rnMcTzoD-7jF",
        "outputId": "6b165abc-7071-441e-a239-e518c7050786"
      },
      "outputs": [
        {
          "output_type": "display_data",
          "data": {
            "text/html": [
              "\n",
              "<style>\n",
              "    /* Turns off some styling */\n",
              "    progress {\n",
              "        /* gets rid of default border in Firefox and Opera. */\n",
              "        border: none;\n",
              "        /* Needs to be in here for Safari polyfill so background images work as expected. */\n",
              "        background-size: auto;\n",
              "    }\n",
              "    .progress-bar-interrupted, .progress-bar-interrupted::-webkit-progress-bar {\n",
              "        background: #F44336;\n",
              "    }\n",
              "</style>\n"
            ],
            "text/plain": [
              "<IPython.core.display.HTML object>"
            ]
          },
          "metadata": {}
        },
        {
          "output_type": "display_data",
          "data": {
            "text/html": [
              "\n",
              "    <div>\n",
              "      <progress value='15687680' class='' max='15683414' style='width:300px; height:20px; vertical-align: middle;'></progress>\n",
              "      100.03% [15687680/15683414 00:00<00:00]\n",
              "    </div>\n",
              "    "
            ],
            "text/plain": [
              "<IPython.core.display.HTML object>"
            ]
          },
          "metadata": {}
        }
      ],
      "source": [
        "path = untar_data(URLs.MNIST)"
      ]
    },
    {
      "cell_type": "code",
      "execution_count": 4,
      "metadata": {
        "id": "R2K34B1V-7jG"
      },
      "outputs": [],
      "source": [
        "#hide\n",
        "Path.BASE_PATH = path"
      ]
    },
    {
      "cell_type": "code",
      "execution_count": 5,
      "metadata": {
        "colab": {
          "base_uri": "https://localhost:8080/"
        },
        "id": "-lZxtXSt-7jH",
        "outputId": "ccd11501-a44d-4077-b000-284a50193fd5"
      },
      "outputs": [
        {
          "output_type": "execute_result",
          "data": {
            "text/plain": [
              "(#2) [Path('training'),Path('testing')]"
            ]
          },
          "metadata": {},
          "execution_count": 5
        }
      ],
      "source": [
        "path.ls()"
      ]
    },
    {
      "cell_type": "code",
      "execution_count": 6,
      "metadata": {
        "colab": {
          "base_uri": "https://localhost:8080/"
        },
        "id": "_icswYDd-7jI",
        "outputId": "c61fd4e8-266b-45f8-f7ae-d781c49e215f"
      },
      "outputs": [
        {
          "output_type": "execute_result",
          "data": {
            "text/plain": [
              "(#10) [Path('training/7'),Path('training/4'),Path('training/5'),Path('training/0'),Path('training/3'),Path('training/1'),Path('training/8'),Path('training/9'),Path('training/6'),Path('training/2')]"
            ]
          },
          "metadata": {},
          "execution_count": 6
        }
      ],
      "source": [
        "(path/'training').ls()"
      ]
    },
    {
      "cell_type": "code",
      "execution_count": 7,
      "metadata": {
        "id": "U1eYutglArYD"
      },
      "outputs": [],
      "source": [
        "zeroes = (path/'training'/'0').ls().sorted()\n",
        "ones = (path/'training'/'1').ls().sorted()\n",
        "twos = (path/'training'/'2').ls().sorted()\n",
        "threes = (path/'training'/'3').ls().sorted()\n",
        "fours = (path/'training'/'4').ls().sorted()\n",
        "fives = (path/'training'/'5').ls().sorted()\n",
        "sixes = (path/'training'/'6').ls().sorted()\n",
        "sevens = (path/'training'/'7').ls().sorted()\n",
        "eights = (path/'training'/'8').ls().sorted()\n",
        "nines = (path/'training'/'9').ls().sorted()"
      ]
    },
    {
      "cell_type": "markdown",
      "metadata": {
        "id": "J1fVz7Ul-7jK"
      },
      "source": [
        "## First Try: Pixel Similarity"
      ]
    },
    {
      "cell_type": "code",
      "execution_count": 8,
      "metadata": {
        "colab": {
          "base_uri": "https://localhost:8080/"
        },
        "id": "0CrXsMej-7jK",
        "outputId": "63fd6075-c258-4259-d4c1-6ddb19213382"
      },
      "outputs": [
        {
          "output_type": "execute_result",
          "data": {
            "text/plain": [
              "(5923, 6742, 5958, 6131, 5842, 5421, 5918, 6265, 5851, 5949)"
            ]
          },
          "metadata": {},
          "execution_count": 8
        }
      ],
      "source": [
        "zero_tensors = [tensor(Image.open(o)) for o in zeroes]\n",
        "one_tensors = [tensor(Image.open(o)) for o in ones]\n",
        "two_tensors = [tensor(Image.open(o)) for o in twos]\n",
        "three_tensors = [tensor(Image.open(o)) for o in threes]\n",
        "four_tensors = [tensor(Image.open(o)) for o in fours]\n",
        "five_tensors = [tensor(Image.open(o)) for o in fives]\n",
        "six_tensors = [tensor(Image.open(o)) for o in sixes]\n",
        "seven_tensors = [tensor(Image.open(o)) for o in sevens]\n",
        "eight_tensors = [tensor(Image.open(o)) for o in eights]\n",
        "nine_tensors = [tensor(Image.open(o)) for o in nines]\n",
        "len(zero_tensors),len(one_tensors),len(two_tensors),len(three_tensors),len(four_tensors),len(five_tensors),len(six_tensors),len(seven_tensors),len(eight_tensors),len(nine_tensors)"
      ]
    },
    {
      "cell_type": "code",
      "execution_count": 9,
      "metadata": {
        "colab": {
          "base_uri": "https://localhost:8080/",
          "height": 697
        },
        "id": "QlzIk6Ad-7jL",
        "outputId": "13ec3899-7dcc-4589-c1d8-8ce19b0da7bb"
      },
      "outputs": [
        {
          "output_type": "display_data",
          "data": {
            "image/png": "[encoded data removed]",
            "text/plain": [
              "<Figure size 72x72 with 1 Axes>"
            ]
          },
          "metadata": {
            "needs_background": "light"
          }
        },
        {
          "output_type": "display_data",
          "data": {
            "image/png": "[encoded data removed]",
            "text/plain": [
              "<Figure size 72x72 with 1 Axes>"
            ]
          },
          "metadata": {
            "needs_background": "light"
          }
        },
        {
          "output_type": "display_data",
          "data": {
            "image/png": "[encoded data removed]",
            "text/plain": [
              "<Figure size 72x72 with 1 Axes>"
            ]
          },
          "metadata": {
            "needs_background": "light"
          }
        },
        {
          "output_type": "display_data",
          "data": {
            "image/png": "[encoded data removed]",
            "text/plain": [
              "<Figure size 72x72 with 1 Axes>"
            ]
          },
          "metadata": {
            "needs_background": "light"
          }
        },
        {
          "output_type": "display_data",
          "data": {
            "image/png": "[encoded data removed]",
            "text/plain": [
              "<Figure size 72x72 with 1 Axes>"
            ]
          },
          "metadata": {
            "needs_background": "light"
          }
        },
        {
          "output_type": "display_data",
          "data": {
            "image/png": "[encoded data removed]",
            "text/plain": [
              "<Figure size 72x72 with 1 Axes>"
            ]
          },
          "metadata": {
            "needs_background": "light"
          }
        },
        {
          "output_type": "display_data",
          "data": {
            "image/png": "[encoded data removed]",
            "text/plain": [
              "<Figure size 72x72 with 1 Axes>"
            ]
          },
          "metadata": {
            "needs_background": "light"
          }
        },
        {
          "output_type": "display_data",
          "data": {
            "image/png": "[encoded data removed]",
            "text/plain": [
              "<Figure size 72x72 with 1 Axes>"
            ]
          },
          "metadata": {
            "needs_background": "light"
          }
        },
        {
          "output_type": "display_data",
          "data": {
            "image/png": "[encoded data removed]",
            "text/plain": [
              "<Figure size 72x72 with 1 Axes>"
            ]
          },
          "metadata": {
            "needs_background": "light"
          }
        },
        {
          "output_type": "display_data",
          "data": {
            "image/png": "[encoded data removed]",
            "text/plain": [
              "<Figure size 72x72 with 1 Axes>"
            ]
          },
          "metadata": {
            "needs_background": "light"
          }
        }
      ],
      "source": [
        "show_image(zero_tensors[0]);\n",
        "show_image(one_tensors[0]);\n",
        "show_image(two_tensors[0]);\n",
        "show_image(three_tensors[0]);\n",
        "show_image(four_tensors[0]);\n",
        "show_image(five_tensors[0]);\n",
        "show_image(six_tensors[0]);\n",
        "show_image(seven_tensors[0]);\n",
        "show_image(eight_tensors[0]);\n",
        "show_image(nine_tensors[0]);"
      ]
    },
    {
      "cell_type": "code",
      "execution_count": 10,
      "metadata": {
        "id": "4PyGGBRg-7jL"
      },
      "outputs": [],
      "source": [
        "stacked_zeroes = torch.stack(zero_tensors).float()/255\n",
        "stacked_ones = torch.stack(one_tensors).float()/255\n",
        "stacked_twos = torch.stack(two_tensors).float()/255\n",
        "stacked_threes = torch.stack(three_tensors).float()/255\n",
        "stacked_fours = torch.stack(four_tensors).float()/255\n",
        "stacked_fives = torch.stack(five_tensors).float()/255\n",
        "stacked_sixes = torch.stack(six_tensors).float()/255\n",
        "stacked_sevens = torch.stack(seven_tensors).float()/255\n",
        "stacked_eights = torch.stack(eight_tensors).float()/255\n",
        "stacked_nines = torch.stack(nine_tensors).float()/255"
      ]
    },
    {
      "cell_type": "code",
      "execution_count": 11,
      "metadata": {
        "colab": {
          "base_uri": "https://localhost:8080/",
          "height": 697
        },
        "id": "_L5jkzvJ-7jM",
        "outputId": "9464ad6f-7ad6-4306-8621-041746b71cb6"
      },
      "outputs": [
        {
          "output_type": "display_data",
          "data": {
            "image/png": "[encoded data removed]",
            "text/plain": [
              "<Figure size 72x72 with 1 Axes>"
            ]
          },
          "metadata": {
            "needs_background": "light"
          }
        },
        {
          "output_type": "display_data",
          "data": {
            "image/png": "[encoded data removed]",
            "text/plain": [
              "<Figure size 72x72 with 1 Axes>"
            ]
          },
          "metadata": {
            "needs_background": "light"
          }
        },
        {
          "output_type": "display_data",
          "data": {
            "image/png": "[encoded data removed]",
            "text/plain": [
              "<Figure size 72x72 with 1 Axes>"
            ]
          },
          "metadata": {
            "needs_background": "light"
          }
        },
        {
          "output_type": "display_data",
          "data": {
            "image/png": "[encoded data removed]",
            "text/plain": [
              "<Figure size 72x72 with 1 Axes>"
            ]
          },
          "metadata": {
            "needs_background": "light"
          }
        },
        {
          "output_type": "display_data",
          "data": {
            "image/png": "[encoded data removed]",
            "text/plain": [
              "<Figure size 72x72 with 1 Axes>"
            ]
          },
          "metadata": {
            "needs_background": "light"
          }
        },
        {
          "output_type": "display_data",
          "data": {
            "image/png": "[encoded data removed]",
            "text/plain": [
              "<Figure size 72x72 with 1 Axes>"
            ]
          },
          "metadata": {
            "needs_background": "light"
          }
        },
        {
          "output_type": "display_data",
          "data": {
            "image/png": "[encoded data removed]",
            "text/plain": [
              "<Figure size 72x72 with 1 Axes>"
            ]
          },
          "metadata": {
            "needs_background": "light"
          }
        },
        {
          "output_type": "display_data",
          "data": {
            "image/png": "[encoded data removed]",
            "text/plain": [
              "<Figure size 72x72 with 1 Axes>"
            ]
          },
          "metadata": {
            "needs_background": "light"
          }
        },
        {
          "output_type": "display_data",
          "data": {
            "image/png": "[encoded data removed]",
            "text/plain": [
              "<Figure size 72x72 with 1 Axes>"
            ]
          },
          "metadata": {
            "needs_background": "light"
          }
        },
        {
          "output_type": "display_data",
          "data": {
            "image/png": "[encoded data removed]",
            "text/plain": [
              "<Figure size 72x72 with 1 Axes>"
            ]
          },
          "metadata": {
            "needs_background": "light"
          }
        }
      ],
      "source": [
        "mean0 = stacked_zeroes.mean(0)\n",
        "mean1 = stacked_ones.mean(0)\n",
        "mean2 = stacked_twos.mean(0)\n",
        "mean3 = stacked_threes.mean(0)\n",
        "mean4 = stacked_fours.mean(0)\n",
        "mean5 = stacked_fives.mean(0)\n",
        "mean6 = stacked_sixes.mean(0)\n",
        "mean7 = stacked_sevens.mean(0)\n",
        "mean8 = stacked_eights.mean(0)\n",
        "mean9 = stacked_nines.mean(0)\n",
        "\n",
        "show_image(mean0);\n",
        "show_image(mean1);\n",
        "show_image(mean2);\n",
        "show_image(mean3);\n",
        "show_image(mean4);\n",
        "show_image(mean5);\n",
        "show_image(mean6);\n",
        "show_image(mean7);\n",
        "show_image(mean8);\n",
        "show_image(mean9);"
      ]
    },
    {
      "cell_type": "markdown",
      "metadata": {
        "id": "-E6lv7ox-7jO"
      },
      "source": [
        "## Computing Metrics Using Broadcasting"
      ]
    },
    {
      "cell_type": "code",
      "execution_count": 12,
      "metadata": {
        "colab": {
          "base_uri": "https://localhost:8080/"
        },
        "id": "AGkRK9_eJYUp",
        "outputId": "edc28bed-68ef-412b-a3ee-af613d2c8249"
      },
      "outputs": [
        {
          "output_type": "execute_result",
          "data": {
            "text/plain": [
              "(#1135) [Path('testing/1/1004.png'),Path('testing/1/1008.png'),Path('testing/1/1011.png'),Path('testing/1/1019.png'),Path('testing/1/1025.png'),Path('testing/1/1027.png'),Path('testing/1/1030.png'),Path('testing/1/1037.png'),Path('testing/1/1038.png'),Path('testing/1/1040.png')...]"
            ]
          },
          "metadata": {},
          "execution_count": 12
        }
      ],
      "source": [
        "ones_valid = (path/'testing'/'1').ls().sorted()\n",
        "ones_valid"
      ]
    },
    {
      "cell_type": "code",
      "execution_count": 13,
      "metadata": {
        "id": "YZq37d6Y-7jP"
      },
      "outputs": [],
      "source": [
        "#Zeroes\n",
        "valid_0_tens = torch.stack([tensor(Image.open(o)) \n",
        "                            for o in (path/'testing'/'0').ls()])\n",
        "valid_0_tens = valid_0_tens.float()/255\n",
        "\n",
        "#Ones\n",
        "valid_1_tens = torch.stack([tensor(Image.open(o)) \n",
        "                            for o in (path/'testing'/'1').ls()])\n",
        "valid_1_tens = valid_1_tens.float()/255\n",
        "\n",
        "#Twos\n",
        "valid_2_tens = torch.stack([tensor(Image.open(o)) \n",
        "                            for o in (path/'testing'/'2').ls()])\n",
        "valid_2_tens = valid_2_tens.float()/255\n",
        "\n",
        "#Threes\n",
        "valid_3_tens = torch.stack([tensor(Image.open(o)) \n",
        "                            for o in (path/'testing'/'3').ls()])\n",
        "valid_3_tens = valid_3_tens.float()/255\n",
        "\n",
        "#Fours\n",
        "valid_4_tens = torch.stack([tensor(Image.open(o)) \n",
        "                            for o in (path/'testing'/'4').ls()])\n",
        "valid_4_tens = valid_4_tens.float()/255\n",
        "\n",
        "#Fives\n",
        "valid_5_tens = torch.stack([tensor(Image.open(o)) \n",
        "                            for o in (path/'testing'/'5').ls()])\n",
        "valid_5_tens = valid_5_tens.float()/255\n",
        "\n",
        "#Sixes\n",
        "valid_6_tens = torch.stack([tensor(Image.open(o)) \n",
        "                            for o in (path/'testing'/'6').ls()])\n",
        "valid_6_tens = valid_6_tens.float()/255\n",
        "\n",
        "#Sevens\n",
        "valid_7_tens = torch.stack([tensor(Image.open(o)) \n",
        "                            for o in (path/'testing'/'7').ls()])\n",
        "valid_7_tens = valid_7_tens.float()/255\n",
        "\n",
        "#Eights\n",
        "valid_8_tens = torch.stack([tensor(Image.open(o)) \n",
        "                            for o in (path/'testing'/'8').ls()])\n",
        "valid_8_tens = valid_8_tens.float()/255\n",
        "\n",
        "#Nines\n",
        "valid_9_tens = torch.stack([tensor(Image.open(o)) \n",
        "                            for o in (path/'testing'/'9').ls()])\n",
        "valid_9_tens = valid_9_tens.float()/255\n",
        "#valid_3_tens.shape,valid_7_tens.shape"
      ]
    },
    {
      "cell_type": "code",
      "execution_count": 14,
      "metadata": {
        "id": "GLnyy2oI-7jP"
      },
      "outputs": [],
      "source": [
        "def mnist_distance(a,b): return (a-b).abs().mean((-1,-2))\n",
        "#mnist_distance(a_3, mean3)"
      ]
    },
    {
      "cell_type": "code",
      "execution_count": 15,
      "metadata": {
        "colab": {
          "base_uri": "https://localhost:8080/"
        },
        "id": "af3krTmS-7jP",
        "outputId": "e644fe52-d0b3-4479-feb9-3a581b4b52b1"
      },
      "outputs": [
        {
          "output_type": "execute_result",
          "data": {
            "text/plain": [
              "(tensor([0.1017, 0.0989, 0.0971,  ..., 0.1053, 0.1157, 0.1049]),\n",
              " torch.Size([1009]))"
            ]
          },
          "metadata": {},
          "execution_count": 15
        }
      ],
      "source": [
        "valid_9_dist = mnist_distance(valid_9_tens, mean9)\n",
        "valid_9_dist, valid_9_dist.shape"
      ]
    },
    {
      "cell_type": "code",
      "execution_count": 16,
      "metadata": {
        "id": "37SUEiRNNAF8"
      },
      "outputs": [],
      "source": [
        "# add means to dictionary\n",
        "dict_means = {}\n",
        "dict_means[0] = mean0\n",
        "dict_means[1] = mean1\n",
        "dict_means[2] = mean2\n",
        "dict_means[3] = mean3\n",
        "dict_means[4] = mean4\n",
        "dict_means[5] = mean5\n",
        "dict_means[6] = mean6\n",
        "dict_means[7] = mean7\n",
        "dict_means[8] = mean8\n",
        "dict_means[9] = mean9"
      ]
    },
    {
      "cell_type": "code",
      "execution_count": 17,
      "metadata": {
        "id": "vVO5EUTYL5wM"
      },
      "outputs": [],
      "source": [
        "#return all matching keys as a set\n",
        "def find_key(input_dict, value):\n",
        "    return {k for k, v in input_dict.items() if v == value}"
      ]
    },
    {
      "cell_type": "code",
      "execution_count": 18,
      "metadata": {
        "id": "tw52ZRfe-7jP"
      },
      "outputs": [],
      "source": [
        "# x is tensor image, dict_means is dictionary of mean tensor images\n",
        "def match_digit(x, dict_means): \n",
        "  a = {}\n",
        "  for i in range(10):\n",
        "    a[i] = float(mnist_distance(x,dict_means[i]))\n",
        "    \n",
        "  return min(a, key=a.get)"
      ]
    },
    {
      "cell_type": "code",
      "execution_count": 19,
      "metadata": {
        "colab": {
          "base_uri": "https://localhost:8080/"
        },
        "id": "H6HqeyLp-7jQ",
        "outputId": "6a5b19e0-1781-4116-e97b-0d15aaa4c725"
      },
      "outputs": [
        {
          "output_type": "execute_result",
          "data": {
            "text/plain": [
              "0"
            ]
          },
          "metadata": {},
          "execution_count": 19
        }
      ],
      "source": [
        "a_0 = stacked_zeroes[0]\n",
        "match_digit(a_0, dict_means)"
      ]
    },
    {
      "cell_type": "code",
      "execution_count": 20,
      "metadata": {
        "colab": {
          "base_uri": "https://localhost:8080/"
        },
        "id": "0WDIn4R8-7jQ",
        "outputId": "042c0830-8673-4f0f-803b-0bc035ee771f"
      },
      "outputs": [
        {
          "output_type": "stream",
          "name": "stdout",
          "text": [
            "Validation Zeroes:  Counter({0: 799, 1: 54, 6: 49, 5: 26, 9: 20, 3: 10, 8: 10, 7: 9, 4: 3})\n",
            "Validation Ones:  Counter({1: 1133, 6: 1, 3: 1})\n",
            "Validation Twos:  Counter({1: 446, 2: 437, 8: 26, 7: 24, 3: 24, 4: 24, 6: 23, 0: 17, 9: 11})\n",
            "Validation Threes:  Counter({3: 615, 1: 320, 9: 27, 8: 18, 7: 15, 5: 5, 2: 5, 6: 3, 4: 1, 0: 1})\n",
            "Validation Fours:  Counter({4: 656, 1: 165, 9: 149, 6: 11, 7: 1})\n",
            "Validation Fives:  Counter({1: 325, 5: 291, 3: 145, 9: 59, 7: 23, 6: 21, 4: 19, 0: 6, 8: 3})\n",
            "Validation Sixes:  Counter({6: 754, 1: 148, 4: 37, 0: 9, 5: 5, 2: 4, 9: 1})\n",
            "Validation Sevens:  Counter({7: 786, 1: 199, 9: 31, 4: 7, 2: 2, 8: 2, 0: 1})\n",
            "Validation Eights:  Counter({8: 431, 1: 371, 9: 68, 3: 51, 7: 15, 0: 11, 6: 11, 4: 9, 5: 7})\n",
            "Validation Nines:  Counter({9: 783, 1: 117, 4: 41, 7: 41, 0: 9, 3: 7, 8: 5, 6: 4, 5: 1, 2: 1})\n"
          ]
        }
      ],
      "source": [
        "#Zeroes\n",
        "valid_0_tens_testing = [match_digit(o, dict_means) for o in valid_0_tens]\n",
        "counter0=collections.Counter(valid_0_tens_testing)\n",
        "print(\"Validation Zeroes: \", counter0)\n",
        "\n",
        "#Ones\n",
        "valid_1_tens_testing = [match_digit(o, dict_means) for o in valid_1_tens]\n",
        "counter1=collections.Counter(valid_1_tens_testing)\n",
        "print(\"Validation Ones: \", counter1)\n",
        "\n",
        "#Twos\n",
        "valid_2_tens_testing = [match_digit(o, dict_means) for o in valid_2_tens]\n",
        "counter2=collections.Counter(valid_2_tens_testing)\n",
        "print(\"Validation Twos: \", counter2)\n",
        "\n",
        "#Threes\n",
        "valid_3_tens_testing = [match_digit(o, dict_means) for o in valid_3_tens]\n",
        "counter3=collections.Counter(valid_3_tens_testing)\n",
        "print(\"Validation Threes: \", counter3)\n",
        "\n",
        "#Fours\n",
        "valid_4_tens_testing = [match_digit(o, dict_means) for o in valid_4_tens]\n",
        "counter4=collections.Counter(valid_4_tens_testing)\n",
        "print(\"Validation Fours: \", counter4)\n",
        "\n",
        "#Fives\n",
        "valid_5_tens_testing = [match_digit(o, dict_means) for o in valid_5_tens]\n",
        "counter5=collections.Counter(valid_5_tens_testing)\n",
        "print(\"Validation Fives: \", counter5)\n",
        "\n",
        "#Sixes\n",
        "valid_6_tens_testing = [match_digit(o, dict_means) for o in valid_6_tens]\n",
        "counter6=collections.Counter(valid_6_tens_testing)\n",
        "print(\"Validation Sixes: \", counter6)\n",
        "\n",
        "#Sevens\n",
        "valid_7_tens_testing = [match_digit(o, dict_means) for o in valid_7_tens]\n",
        "counter7=collections.Counter(valid_7_tens_testing)\n",
        "print(\"Validation Sevens: \", counter7)\n",
        "\n",
        "#Eights\n",
        "valid_8_tens_testing = [match_digit(o, dict_means) for o in valid_8_tens]\n",
        "counter8=collections.Counter(valid_8_tens_testing)\n",
        "print(\"Validation Eights: \", counter8)\n",
        "\n",
        "#Nines\n",
        "valid_9_tens_testing = [match_digit(o, dict_means) for o in valid_9_tens]\n",
        "counter9=collections.Counter(valid_9_tens_testing)\n",
        "print(\"Validation Nines: \", counter9)"
      ]
    },
    {
      "cell_type": "code",
      "execution_count": 21,
      "metadata": {
        "colab": {
          "base_uri": "https://localhost:8080/"
        },
        "id": "Y7KXb0RbVMb7",
        "outputId": "77df71cc-b8dc-4e91-e183-eb5f19f486ab"
      },
      "outputs": [
        {
          "output_type": "stream",
          "name": "stdout",
          "text": [
            "\n",
            "Zeroes Accuracy: 81.5% \n",
            "Ones Accuracy: 99.8% \n",
            "Twos Accuracy: 42.3% \n",
            "Threes Accuracy: 60.9% \n",
            "Fours Accuracy: 66.8% \n",
            "Fives Accuracy: 32.6% \n",
            "Sixes Accuracy: 78.7% \n",
            "Sevens Accuracy: 76.5% \n",
            "Eights Accuracy: 44.3% \n",
            "Nines Accuracy: 77.6%\n"
          ]
        }
      ],
      "source": [
        "accuracy_0s = counter0[0]/sum(counter0.values())\n",
        "accuracy_1s = counter1[1]/sum(counter1.values())\n",
        "accuracy_2s = counter2[2]/sum(counter2.values())\n",
        "accuracy_3s = counter3[3]/sum(counter3.values())\n",
        "accuracy_4s = counter4[4]/sum(counter4.values())\n",
        "accuracy_5s = counter5[5]/sum(counter5.values())\n",
        "accuracy_6s = counter6[6]/sum(counter6.values())\n",
        "accuracy_7s = counter7[7]/sum(counter7.values())\n",
        "accuracy_8s = counter8[8]/sum(counter8.values())\n",
        "accuracy_9s = counter9[9]/sum(counter9.values())\n",
        "\n",
        "print(\n",
        "    '\\nZeroes Accuracy: {:.1f}%'.format(accuracy_0s*100),\n",
        "    '\\nOnes Accuracy: {:.1f}%'.format(accuracy_1s*100),\n",
        "    '\\nTwos Accuracy: {:.1f}%'.format(accuracy_2s*100),\n",
        "    '\\nThrees Accuracy: {:.1f}%'.format(accuracy_3s*100),\n",
        "    '\\nFours Accuracy: {:.1f}%'.format(accuracy_4s*100),\n",
        "    '\\nFives Accuracy: {:.1f}%'.format(accuracy_5s*100),\n",
        "    '\\nSixes Accuracy: {:.1f}%'.format(accuracy_6s*100),\n",
        "    '\\nSevens Accuracy: {:.1f}%'.format(accuracy_7s*100),\n",
        "    '\\nEights Accuracy: {:.1f}%'.format(accuracy_8s*100),\n",
        "    '\\nNines Accuracy: {:.1f}%'.format(accuracy_9s*100)\n",
        ")"
      ]
    },
    {
      "cell_type": "code",
      "execution_count": 22,
      "metadata": {
        "id": "R828vzqF3P4u"
      },
      "outputs": [],
      "source": [
        "# set up x values in list\n",
        "x_vals = [i for i in range(10)]\n",
        "\n",
        "# set up y values in list\n",
        "y_vals = [accuracy_0s*100,\n",
        "          accuracy_1s*100,\n",
        "          accuracy_2s*100,\n",
        "          accuracy_3s*100,\n",
        "          accuracy_4s*100,\n",
        "          accuracy_5s*100,\n",
        "          accuracy_6s*100,\n",
        "          accuracy_7s*100,\n",
        "          accuracy_8s*100,\n",
        "          accuracy_9s*100,\n",
        "          ]"
      ]
    },
    {
      "cell_type": "code",
      "execution_count": 23,
      "metadata": {
        "colab": {
          "base_uri": "https://localhost:8080/",
          "height": 312
        },
        "id": "ze0HitiU1ARA",
        "outputId": "1744d4ea-20d7-4ac0-dd8c-54bcf6f07243"
      },
      "outputs": [
        {
          "output_type": "execute_result",
          "data": {
            "text/plain": [
              "<BarContainer object of 10 artists>"
            ]
          },
          "metadata": {},
          "execution_count": 23
        },
        {
          "output_type": "display_data",
          "data": {
            "image/png": "[encoded data removed]",
            "text/plain": [
              "<Figure size 432x288 with 1 Axes>"
            ]
          },
          "metadata": {
            "needs_background": "light"
          }
        }
      ],
      "source": [
        "# plot results for visual inspection\n",
        "plt.title(\"Baseline Performance Across Digits - using L1 norm\")\n",
        "plt.xticks(range(0,10))\n",
        "plt.xlabel('Digits')\n",
        "plt.ylabel('Accuracy')\n",
        "# plot quartile % lines\n",
        "plt.axhline(25,color='red')\n",
        "plt.axhline(50,color='red')\n",
        "plt.axhline(75,color='red')\n",
        "plt.bar(\n",
        "    x_vals, \n",
        "    y_vals)"
      ]
    },
    {
      "cell_type": "markdown",
      "metadata": {
        "id": "mG02Ez5E-7jQ"
      },
      "source": [
        "## Stochastic Gradient Descent (SGD)"
      ]
    },
    {
      "cell_type": "markdown",
      "metadata": {
        "id": "ng6VN_FZ-7jY"
      },
      "source": [
        "## The MNIST Loss Function"
      ]
    },
    {
      "cell_type": "code",
      "execution_count": 24,
      "metadata": {
        "id": "lARJAT71-7jY"
      },
      "outputs": [],
      "source": [
        "train_x = torch.cat(\n",
        "    [stacked_zeroes, stacked_ones, stacked_twos, \n",
        "     stacked_threes, stacked_fours, stacked_fives, \n",
        "     stacked_sixes, stacked_sevens, stacked_eights, \n",
        "     stacked_nines]\n",
        "     ).view(-1, 28*28)"
      ]
    },
    {
      "cell_type": "code",
      "source": [
        "train_x.shape"
      ],
      "metadata": {
        "colab": {
          "base_uri": "https://localhost:8080/"
        },
        "id": "9GIANeZfr5Bq",
        "outputId": "b3906750-f045-43ea-fbc9-5a20ce5c030c"
      },
      "execution_count": 25,
      "outputs": [
        {
          "output_type": "execute_result",
          "data": {
            "text/plain": [
              "torch.Size([60000, 784])"
            ]
          },
          "metadata": {},
          "execution_count": 25
        }
      ]
    },
    {
      "cell_type": "code",
      "execution_count": 26,
      "metadata": {
        "id": "P-q3wVOQq8yd"
      },
      "outputs": [],
      "source": [
        "train_counts = {}\n",
        "train_counts[0] = len(zeroes)\n",
        "train_counts[1] = len(ones)\n",
        "train_counts[2] = len(twos)\n",
        "train_counts[3] = len(threes)\n",
        "train_counts[4] = len(fours)\n",
        "train_counts[5] = len(fives)\n",
        "train_counts[6] = len(sixes)\n",
        "train_counts[7] = len(sevens)\n",
        "train_counts[8] = len(eights)\n",
        "train_counts[9] = len(nines)"
      ]
    },
    {
      "cell_type": "code",
      "execution_count": 27,
      "metadata": {
        "id": "cdCrruY5-7jY"
      },
      "outputs": [],
      "source": [
        "# format train_y to 1x10 vector where digit match = 1, all else 0 as target labels\n",
        "train_y = torch.from_numpy(np.concatenate([[[0]*i + [1] + [0]*(9-i)]*train_counts[i] for i in range(10)]))"
      ]
    },
    {
      "cell_type": "code",
      "execution_count": 28,
      "metadata": {
        "colab": {
          "base_uri": "https://localhost:8080/"
        },
        "id": "l2q-tgQ2k7s9",
        "outputId": "ddd408e0-c67b-4789-8f9e-ae7760de4e19"
      },
      "outputs": [
        {
          "output_type": "execute_result",
          "data": {
            "text/plain": [
              "(torch.Size([60000, 784]), torch.Size([60000, 10]))"
            ]
          },
          "metadata": {},
          "execution_count": 28
        }
      ],
      "source": [
        "train_x.shape,train_y.shape"
      ]
    },
    {
      "cell_type": "code",
      "execution_count": 29,
      "metadata": {
        "id": "_SfLF1fIsVDN"
      },
      "outputs": [],
      "source": [
        "valid_counts = {}\n",
        "valid_counts[0] = len(valid_0_tens)\n",
        "valid_counts[1] = len(valid_1_tens)\n",
        "valid_counts[2] = len(valid_2_tens)\n",
        "valid_counts[3] = len(valid_3_tens)\n",
        "valid_counts[4] = len(valid_4_tens)\n",
        "valid_counts[5] = len(valid_5_tens)\n",
        "valid_counts[6] = len(valid_6_tens)\n",
        "valid_counts[7] = len(valid_7_tens)\n",
        "valid_counts[8] = len(valid_8_tens)\n",
        "valid_counts[9] = len(valid_9_tens)"
      ]
    },
    {
      "cell_type": "code",
      "execution_count": 30,
      "metadata": {
        "id": "UTm8N3QrMlft"
      },
      "outputs": [],
      "source": [
        "valid_x = torch.cat(\n",
        "    [valid_0_tens, valid_1_tens, valid_2_tens, valid_3_tens, \n",
        "     valid_4_tens, valid_5_tens, valid_6_tens, \n",
        "     valid_7_tens, valid_8_tens, valid_9_tens]\n",
        "     ).view(-1, 28*28)"
      ]
    },
    {
      "cell_type": "code",
      "execution_count": 31,
      "metadata": {
        "id": "BNc1LTxEMk1j"
      },
      "outputs": [],
      "source": [
        "# format valid_y to 1x10 vector where digit match = 1, all else 0 as target labels\n",
        "valid_y = torch.from_numpy(np.concatenate([[[0]*i + [1] + [0]*(9-i)]*valid_counts[i] for i in range(10)]))"
      ]
    },
    {
      "cell_type": "code",
      "execution_count": 32,
      "metadata": {
        "colab": {
          "base_uri": "https://localhost:8080/"
        },
        "id": "lNooiBwy-7jZ",
        "outputId": "53ac9e19-1544-486f-d65f-d726af73a5bc"
      },
      "outputs": [
        {
          "output_type": "execute_result",
          "data": {
            "text/plain": [
              "(torch.Size([784]), tensor([1, 0, 0, 0, 0, 0, 0, 0, 0, 0]))"
            ]
          },
          "metadata": {},
          "execution_count": 32
        }
      ],
      "source": [
        "train_dset = list(zip(train_x,train_y))\n",
        "valid_dset = list(zip(valid_x,valid_y))\n",
        "\n",
        "x,y = train_dset[0]\n",
        "x.shape,y"
      ]
    },
    {
      "cell_type": "code",
      "execution_count": 33,
      "metadata": {
        "colab": {
          "base_uri": "https://localhost:8080/"
        },
        "id": "FqkBUMIpNz1D",
        "outputId": "60961b89-a2a1-4d82-963c-5c22d972230f"
      },
      "outputs": [
        {
          "output_type": "execute_result",
          "data": {
            "text/plain": [
              "(torch.Size([784]), tensor([1, 0, 0, 0, 0, 0, 0, 0, 0, 0]))"
            ]
          },
          "metadata": {},
          "execution_count": 33
        }
      ],
      "source": [
        "x_valid,y_valid = valid_dset[0]\n",
        "x_valid.shape,y_valid"
      ]
    },
    {
      "cell_type": "code",
      "execution_count": 34,
      "metadata": {
        "id": "S61tFAM1-7jZ"
      },
      "outputs": [],
      "source": [
        "def init_params(sizeD1, sizeD2=0): \n",
        "  if sizeD2 == 0:\n",
        "    return (torch.randn(sizeD1)).requires_grad_()\n",
        "  else:\n",
        "    return (torch.randn(sizeD1, sizeD2)).requires_grad_()"
      ]
    },
    {
      "cell_type": "code",
      "execution_count": 35,
      "metadata": {
        "id": "tfbqCK_j-7jZ"
      },
      "outputs": [],
      "source": [
        "weights = init_params((28*28,10))\n",
        "bias = init_params(10)"
      ]
    },
    {
      "cell_type": "code",
      "execution_count": 36,
      "metadata": {
        "colab": {
          "base_uri": "https://localhost:8080/"
        },
        "id": "0hH3kiVX-6e2",
        "outputId": "41c7b34f-fab8-4162-8161-f16817a76396"
      },
      "outputs": [
        {
          "output_type": "execute_result",
          "data": {
            "text/plain": [
              "(torch.Size([784, 10]), torch.Size([10]))"
            ]
          },
          "metadata": {},
          "execution_count": 36
        }
      ],
      "source": [
        "weights.shape, bias.shape"
      ]
    },
    {
      "cell_type": "code",
      "execution_count": 37,
      "metadata": {
        "id": "Puzh0tmV_hSY"
      },
      "outputs": [],
      "source": [
        "# linear equation\n",
        "def linear_eq(x):\n",
        "    return x@weights + bias"
      ]
    },
    {
      "cell_type": "markdown",
      "metadata": {
        "id": "jYbyB3u_FYAU"
      },
      "source": [
        ""
      ]
    },
    {
      "cell_type": "code",
      "execution_count": 38,
      "metadata": {
        "colab": {
          "base_uri": "https://localhost:8080/"
        },
        "id": "MymwUji4Bc7O",
        "outputId": "0f429568-a359-488f-aff2-7f81cd9959ee"
      },
      "outputs": [
        {
          "output_type": "execute_result",
          "data": {
            "text/plain": [
              "tensor([[-11.9867,  -4.2706,   4.6806,  ...,  -1.3517,  -0.0395,  13.5840],\n",
              "        [ -6.6797,  -4.4483,   1.4827,  ...,  -8.9409,   2.2570,  10.0881],\n",
              "        [-22.7994,   2.2295,  11.1160,  ...,  -1.8488,  25.5523,  22.3240],\n",
              "        ...,\n",
              "        [-16.7386,   4.0141,   3.9273,  ...,   1.5960,   9.7961,  12.3801],\n",
              "        [-14.1562,  -3.5679,   1.7541,  ...,   1.6506,  16.5308,  10.3213],\n",
              "        [-11.3688,   4.5965,   5.7170,  ...,  10.0353,   4.4967,   9.5438]], grad_fn=<AddBackward0>)"
            ]
          },
          "metadata": {},
          "execution_count": 38
        }
      ],
      "source": [
        "preds = linear_eq(train_x)\n",
        "preds"
      ]
    },
    {
      "cell_type": "code",
      "execution_count": 39,
      "metadata": {
        "id": "fVJmUo4SEMg1"
      },
      "outputs": [],
      "source": [
        "#get predicted digits\n",
        "pred_indices = preds.argmax(1)"
      ]
    },
    {
      "cell_type": "code",
      "execution_count": 40,
      "metadata": {
        "id": "dwnrh6G7R6dP"
      },
      "outputs": [],
      "source": [
        "#get target labels from one hot encoded tensor\n",
        "train_target_indices = train_y.argmax(1)"
      ]
    },
    {
      "cell_type": "code",
      "execution_count": 41,
      "metadata": {
        "colab": {
          "base_uri": "https://localhost:8080/"
        },
        "id": "Lr05jwHvk_xB",
        "outputId": "c19de6da-8e96-4b0e-8e7d-62dd01b5f6b0"
      },
      "outputs": [
        {
          "output_type": "execute_result",
          "data": {
            "text/plain": [
              "tensor(0.1204)"
            ]
          },
          "metadata": {},
          "execution_count": 41
        }
      ],
      "source": [
        "accuracy_check = pred_indices == train_target_indices\n",
        "accuracy_check.float().mean()"
      ]
    },
    {
      "cell_type": "code",
      "source": [
        "def loss_function(predictions, targets):\n",
        "  sm = nn.Softmax(dim=-1) # instantiate PyTorch's softmax in the 2nd dimension\n",
        "  predictions = sm(predictions) # calculate the softmax across the 2nd dimension\n",
        "  return torch.where(targets==1, 1-predictions, predictions).mean(-1)"
      ],
      "metadata": {
        "id": "YoKlWTS_h3qh"
      },
      "execution_count": 42,
      "outputs": []
    },
    {
      "cell_type": "code",
      "source": [
        "loss_function(preds, train_y)"
      ],
      "metadata": {
        "colab": {
          "base_uri": "https://localhost:8080/"
        },
        "id": "C5yGpOmUh5T-",
        "outputId": "823f715a-fd35-4b8d-defe-a2e12eb0e284"
      },
      "execution_count": 43,
      "outputs": [
        {
          "output_type": "execute_result",
          "data": {
            "text/plain": [
              "tensor([0.2000, 0.2000, 0.2000,  ..., 0.0141, 0.1996, 0.1299], grad_fn=<MeanBackward1>)"
            ]
          },
          "metadata": {},
          "execution_count": 43
        }
      ]
    },
    {
      "cell_type": "markdown",
      "metadata": {
        "id": "6ejOgcV9i5zw"
      },
      "source": [
        "## Mini Batches"
      ]
    },
    {
      "cell_type": "code",
      "execution_count": 44,
      "metadata": {
        "id": "IqXSQ2hUi9bK"
      },
      "outputs": [],
      "source": [
        "dl = DataLoader(train_dset, batch_size=128, shuffle=True)\n",
        "valid_dl = DataLoader(valid_dset, batch_size=128, shuffle=True)"
      ]
    },
    {
      "cell_type": "code",
      "source": [
        "print(len(dl))"
      ],
      "metadata": {
        "colab": {
          "base_uri": "https://localhost:8080/"
        },
        "id": "I_09vezClqMJ",
        "outputId": "8a491b74-cc55-4410-c542-b318218134f8"
      },
      "execution_count": 45,
      "outputs": [
        {
          "output_type": "stream",
          "name": "stdout",
          "text": [
            "469\n"
          ]
        }
      ]
    },
    {
      "cell_type": "code",
      "source": [
        "print(len(valid_dl))"
      ],
      "metadata": {
        "colab": {
          "base_uri": "https://localhost:8080/"
        },
        "id": "4ufqRXdLlry4",
        "outputId": "346eb189-78d0-419e-d2b1-3b37d11cc2b0"
      },
      "execution_count": 46,
      "outputs": [
        {
          "output_type": "stream",
          "name": "stdout",
          "text": [
            "79\n"
          ]
        }
      ]
    },
    {
      "cell_type": "markdown",
      "metadata": {
        "id": "YSZ1vOzSjZ8y"
      },
      "source": [
        "## MNIST Model"
      ]
    },
    {
      "cell_type": "code",
      "execution_count": 47,
      "metadata": {
        "id": "7uii5Kesjb-c"
      },
      "outputs": [],
      "source": [
        "class MNISTLinearRegression:\n",
        "  def __init__(self, train_dl, valid_dl, epochs, lr, verbose):\n",
        "    self.lr = lr\n",
        "    self.train_dl = train_dl\n",
        "    self.valid_dl = valid_dl\n",
        "    self.epochs = epochs\n",
        "    self.weights, self.bias = self._init_params()\n",
        "    self.softmax = nn.Softmax(dim=-1)\n",
        "    self.accuracy_scores = []\n",
        "    self.verbose = verbose\n",
        "\n",
        "  def train(self):\n",
        "    for i in range(self.epochs):\n",
        "      for xb, yb in self.train_dl:\n",
        "        self._calc_grad(xb, yb)\n",
        "        for p in [self.weights, self.bias]:\n",
        "            p.data -= p.grad*self.lr\n",
        "            p.grad.zero_()\n",
        "\n",
        "      self._validate_epoch(i)\n",
        "\n",
        "  def predict(self, image_tensor):\n",
        "    probabilities = self.softmax(self._linear_eq(image_tensor))\n",
        "    _, prediction = probabilities.max(-1)\n",
        "    # Return digit and vector of probabilities\n",
        "    return prediction, probabilities\n",
        "\n",
        "  def _calc_grad(self, xb, yb):\n",
        "    preds = self._linear_eq(xb)\n",
        "    loss = self._loss_function(preds, yb)\n",
        "    loss.mean().backward()\n",
        "\n",
        "  def _batch_accuracy(self, xb, yb):\n",
        "    predictions = self.softmax(xb) \n",
        "    _, max_indices = xb.max(-1) # get the index of max value along 2nd dimension\n",
        "    _, tag_indices = yb.max(-1) # get index of flag in our label tensors\n",
        "    corrects = max_indices == tag_indices # check whether they match\n",
        "    return corrects.float().mean() # calculate mean\n",
        "\n",
        "  def _validate_epoch(self, i):\n",
        "    accs = [self._batch_accuracy(self._linear_eq(xb), yb) for xb,yb in self.valid_dl]\n",
        "    score = round(torch.stack(accs).mean().item(), 4)\n",
        "    self.accuracy_scores.append(score)\n",
        "    self._print(f'Epoch #{i}', score)\n",
        "\n",
        "  def _linear_eq(self, x):\n",
        "    return x@self.weights + self.bias\n",
        "\n",
        "  def _loss_function(self, predictions, targets):\n",
        "    predictions = self.softmax(predictions)\n",
        "    return torch.where(targets==1, 1-predictions, predictions).mean(-1)\n",
        "\n",
        "  def _print(self, *args):\n",
        "    if self.verbose:\n",
        "      print(*args)\n",
        "\n",
        "  # Linear regression using SGD\n",
        "  def _init_params(*args):\n",
        "    return (torch.randn(28*28, 10)).requires_grad_(), (torch.randn(10)).requires_grad_()"
      ]
    },
    {
      "cell_type": "code",
      "execution_count": 48,
      "metadata": {
        "id": "BpfIRMS8jksZ"
      },
      "outputs": [],
      "source": [
        "model = MNISTLinearRegression(dl, valid_dl, 50, 1, True)"
      ]
    },
    {
      "cell_type": "code",
      "source": [
        "model.train()"
      ],
      "metadata": {
        "colab": {
          "base_uri": "https://localhost:8080/"
        },
        "id": "OGtmg6TPGBRJ",
        "outputId": "f4096d0f-a6b1-4d36-e55e-6f0612f2dd99"
      },
      "execution_count": 49,
      "outputs": [
        {
          "output_type": "stream",
          "name": "stdout",
          "text": [
            "Epoch #0 0.2523\n",
            "Epoch #1 0.342\n",
            "Epoch #2 0.3824\n",
            "Epoch #3 0.4138\n",
            "Epoch #4 0.4377\n",
            "Epoch #5 0.4674\n",
            "Epoch #6 0.4958\n",
            "Epoch #7 0.5186\n",
            "Epoch #8 0.5388\n",
            "Epoch #9 0.554\n",
            "Epoch #10 0.5663\n",
            "Epoch #11 0.5702\n",
            "Epoch #12 0.5827\n",
            "Epoch #13 0.6204\n",
            "Epoch #14 0.6376\n",
            "Epoch #15 0.6491\n",
            "Epoch #16 0.6592\n",
            "Epoch #17 0.6626\n",
            "Epoch #18 0.67\n",
            "Epoch #19 0.6733\n",
            "Epoch #20 0.6758\n",
            "Epoch #21 0.6798\n",
            "Epoch #22 0.6824\n",
            "Epoch #23 0.6866\n",
            "Epoch #24 0.6875\n",
            "Epoch #25 0.6909\n",
            "Epoch #26 0.6931\n",
            "Epoch #27 0.6928\n",
            "Epoch #28 0.6942\n",
            "Epoch #29 0.6946\n",
            "Epoch #30 0.6948\n",
            "Epoch #31 0.6975\n",
            "Epoch #32 0.6962\n",
            "Epoch #33 0.7021\n",
            "Epoch #34 0.7009\n",
            "Epoch #35 0.7015\n",
            "Epoch #36 0.7001\n",
            "Epoch #37 0.705\n",
            "Epoch #38 0.7059\n",
            "Epoch #39 0.7079\n",
            "Epoch #40 0.7063\n",
            "Epoch #41 0.7059\n",
            "Epoch #42 0.7037\n",
            "Epoch #43 0.7089\n",
            "Epoch #44 0.7111\n",
            "Epoch #45 0.7101\n",
            "Epoch #46 0.7102\n",
            "Epoch #47 0.7108\n",
            "Epoch #48 0.7117\n",
            "Epoch #49 0.713\n"
          ]
        }
      ]
    }
  ],
  "metadata": {
    "colab": {
      "collapsed_sections": [],
      "name": "All Digits - MNIST fastai",
      "provenance": []
    },
    "jupytext": {
      "split_at_heading": true
    },
    "kernelspec": {
      "display_name": "Python 3",
      "language": "python",
      "name": "python3"
    }
  },
  "nbformat": 4,
  "nbformat_minor": 0
}